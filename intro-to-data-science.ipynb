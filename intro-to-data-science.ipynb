{
 "cells": [
  {
   "cell_type": "code",
   "execution_count": 108,
   "metadata": {
    "collapsed": false
   },
   "outputs": [],
   "source": [
    "import pandas as pd\n",
    "import numpy as np\n",
    "import statsmodels.formula.api as smf\n",
    "from helper_functions import linear_model_summary\n",
    "\n",
    "%matplotlib inline\n",
    "import matplotlib.pyplot as plt\n",
    "plt.style.use('ggplot')\n",
    "\n",
    "# This is not good practice, but is appropriate here for a beginners class.\n",
    "# This allows us to not fuss with image sizes later in the presentation.\n",
    "from pylab import rcParams\n",
    "rcParams['figure.figsize'] = 10, 6"
   ]
  },
  {
   "cell_type": "markdown",
   "metadata": {},
   "source": [
    "## Regresssion: Analysing and Predicting A Coninuous Varaible."
   ]
  },
  {
   "cell_type": "markdown",
   "metadata": {},
   "source": [
    "**Regression** is the process of summarizing a continuous measurement with a statistical model."
   ]
  },
  {
   "cell_type": "markdown",
   "metadata": {},
   "source": [
    "### Loading and Inspecting the Data"
   ]
  },
  {
   "cell_type": "markdown",
   "metadata": {},
   "source": [
    "Our example of regression will use a dataset about various sepcemins of single species of insect collected across two continents.  We will be interested in explaining how the insects wing span varies, as influenced by the other measurements in our dataset."
   ]
  },
  {
   "cell_type": "markdown",
   "metadata": {},
   "source": [
    "We'd like to load the `insects` data into python.  Our first step is to take a quick look at the raw data."
   ]
  },
  {
   "cell_type": "code",
   "execution_count": 39,
   "metadata": {
    "collapsed": false
   },
   "outputs": [
    {
     "name": "stdout",
     "output_type": "stream",
     "text": [
      "continent\tlatitude\twingsize\tsex\r\n",
      "1\t35.5\t901\t0\r\n",
      "1\t37\t896\t0\r\n",
      "1\t38.6\t906\t0\r\n",
      "1\t40.7\t907\t0\r\n",
      "1\t40.9\t898\t0\r\n",
      "1\t42.4\t893\t0\r\n",
      "1\t45\t913\t0\r\n",
      "1\t46.8\t915\t0\r\n",
      "1\t48.8\t927\t0\r\n"
     ]
    }
   ],
   "source": [
    "!head ./insects.csv"
   ]
  },
  {
   "cell_type": "markdown",
   "metadata": {},
   "source": [
    "`head` is actually a small command line program that displays the first 10 lines of a file.  We're using it here to inform our strategy for reading the data into python.\n",
    "\n",
    "It looks like there are four columns in our dataset:\n",
    "\n",
    "```\n",
    "continent, latitude, wingsize, and sex\n",
    "```\n",
    "\n",
    "Each data element is seperated from the next by a tab charecter, this type of format is often called \"tab seperated data\".  Tab seperated data can be read into python using the `read_csv` function in the `pandas` library."
   ]
  },
  {
   "cell_type": "code",
   "execution_count": 109,
   "metadata": {
    "collapsed": false
   },
   "outputs": [],
   "source": [
    "insects = pd.read_csv('./insects.csv', sep='\\t')"
   ]
  },
  {
   "cell_type": "markdown",
   "metadata": {},
   "source": [
    "Now we have the data in a python object:"
   ]
  },
  {
   "cell_type": "code",
   "execution_count": 5,
   "metadata": {
    "collapsed": false,
    "scrolled": true
   },
   "outputs": [
    {
     "data": {
      "text/html": [
       "<div>\n",
       "<table border=\"1\" class=\"dataframe\">\n",
       "  <thead>\n",
       "    <tr style=\"text-align: right;\">\n",
       "      <th></th>\n",
       "      <th>continent</th>\n",
       "      <th>latitude</th>\n",
       "      <th>wingsize</th>\n",
       "      <th>sex</th>\n",
       "    </tr>\n",
       "  </thead>\n",
       "  <tbody>\n",
       "    <tr>\n",
       "      <th>0</th>\n",
       "      <td>1</td>\n",
       "      <td>35.5</td>\n",
       "      <td>901</td>\n",
       "      <td>0</td>\n",
       "    </tr>\n",
       "    <tr>\n",
       "      <th>1</th>\n",
       "      <td>1</td>\n",
       "      <td>37.0</td>\n",
       "      <td>896</td>\n",
       "      <td>0</td>\n",
       "    </tr>\n",
       "    <tr>\n",
       "      <th>2</th>\n",
       "      <td>1</td>\n",
       "      <td>38.6</td>\n",
       "      <td>906</td>\n",
       "      <td>0</td>\n",
       "    </tr>\n",
       "    <tr>\n",
       "      <th>3</th>\n",
       "      <td>1</td>\n",
       "      <td>40.7</td>\n",
       "      <td>907</td>\n",
       "      <td>0</td>\n",
       "    </tr>\n",
       "    <tr>\n",
       "      <th>4</th>\n",
       "      <td>1</td>\n",
       "      <td>40.9</td>\n",
       "      <td>898</td>\n",
       "      <td>0</td>\n",
       "    </tr>\n",
       "    <tr>\n",
       "      <th>5</th>\n",
       "      <td>1</td>\n",
       "      <td>42.4</td>\n",
       "      <td>893</td>\n",
       "      <td>0</td>\n",
       "    </tr>\n",
       "    <tr>\n",
       "      <th>6</th>\n",
       "      <td>1</td>\n",
       "      <td>45.0</td>\n",
       "      <td>913</td>\n",
       "      <td>0</td>\n",
       "    </tr>\n",
       "    <tr>\n",
       "      <th>7</th>\n",
       "      <td>1</td>\n",
       "      <td>46.8</td>\n",
       "      <td>915</td>\n",
       "      <td>0</td>\n",
       "    </tr>\n",
       "    <tr>\n",
       "      <th>8</th>\n",
       "      <td>1</td>\n",
       "      <td>48.8</td>\n",
       "      <td>927</td>\n",
       "      <td>0</td>\n",
       "    </tr>\n",
       "    <tr>\n",
       "      <th>9</th>\n",
       "      <td>1</td>\n",
       "      <td>49.8</td>\n",
       "      <td>924</td>\n",
       "      <td>0</td>\n",
       "    </tr>\n",
       "    <tr>\n",
       "      <th>10</th>\n",
       "      <td>1</td>\n",
       "      <td>50.8</td>\n",
       "      <td>930</td>\n",
       "      <td>0</td>\n",
       "    </tr>\n",
       "    <tr>\n",
       "      <th>11</th>\n",
       "      <td>0</td>\n",
       "      <td>36.4</td>\n",
       "      <td>905</td>\n",
       "      <td>0</td>\n",
       "    </tr>\n",
       "    <tr>\n",
       "      <th>12</th>\n",
       "      <td>0</td>\n",
       "      <td>39.3</td>\n",
       "      <td>889</td>\n",
       "      <td>0</td>\n",
       "    </tr>\n",
       "    <tr>\n",
       "      <th>13</th>\n",
       "      <td>0</td>\n",
       "      <td>41.3</td>\n",
       "      <td>915</td>\n",
       "      <td>0</td>\n",
       "    </tr>\n",
       "    <tr>\n",
       "      <th>14</th>\n",
       "      <td>0</td>\n",
       "      <td>43.4</td>\n",
       "      <td>930</td>\n",
       "      <td>0</td>\n",
       "    </tr>\n",
       "    <tr>\n",
       "      <th>15</th>\n",
       "      <td>0</td>\n",
       "      <td>45.5</td>\n",
       "      <td>895</td>\n",
       "      <td>0</td>\n",
       "    </tr>\n",
       "    <tr>\n",
       "      <th>16</th>\n",
       "      <td>0</td>\n",
       "      <td>47.3</td>\n",
       "      <td>926</td>\n",
       "      <td>0</td>\n",
       "    </tr>\n",
       "    <tr>\n",
       "      <th>17</th>\n",
       "      <td>0</td>\n",
       "      <td>48.5</td>\n",
       "      <td>944</td>\n",
       "      <td>0</td>\n",
       "    </tr>\n",
       "    <tr>\n",
       "      <th>18</th>\n",
       "      <td>0</td>\n",
       "      <td>50.4</td>\n",
       "      <td>925</td>\n",
       "      <td>0</td>\n",
       "    </tr>\n",
       "    <tr>\n",
       "      <th>19</th>\n",
       "      <td>0</td>\n",
       "      <td>52.1</td>\n",
       "      <td>920</td>\n",
       "      <td>0</td>\n",
       "    </tr>\n",
       "    <tr>\n",
       "      <th>20</th>\n",
       "      <td>0</td>\n",
       "      <td>56.1</td>\n",
       "      <td>934</td>\n",
       "      <td>0</td>\n",
       "    </tr>\n",
       "    <tr>\n",
       "      <th>21</th>\n",
       "      <td>1</td>\n",
       "      <td>35.5</td>\n",
       "      <td>797</td>\n",
       "      <td>1</td>\n",
       "    </tr>\n",
       "    <tr>\n",
       "      <th>22</th>\n",
       "      <td>1</td>\n",
       "      <td>37.0</td>\n",
       "      <td>806</td>\n",
       "      <td>1</td>\n",
       "    </tr>\n",
       "    <tr>\n",
       "      <th>23</th>\n",
       "      <td>1</td>\n",
       "      <td>38.6</td>\n",
       "      <td>812</td>\n",
       "      <td>1</td>\n",
       "    </tr>\n",
       "    <tr>\n",
       "      <th>24</th>\n",
       "      <td>1</td>\n",
       "      <td>40.7</td>\n",
       "      <td>807</td>\n",
       "      <td>1</td>\n",
       "    </tr>\n",
       "    <tr>\n",
       "      <th>25</th>\n",
       "      <td>1</td>\n",
       "      <td>40.9</td>\n",
       "      <td>818</td>\n",
       "      <td>1</td>\n",
       "    </tr>\n",
       "    <tr>\n",
       "      <th>26</th>\n",
       "      <td>1</td>\n",
       "      <td>42.4</td>\n",
       "      <td>809</td>\n",
       "      <td>1</td>\n",
       "    </tr>\n",
       "    <tr>\n",
       "      <th>27</th>\n",
       "      <td>1</td>\n",
       "      <td>45.0</td>\n",
       "      <td>810</td>\n",
       "      <td>1</td>\n",
       "    </tr>\n",
       "    <tr>\n",
       "      <th>28</th>\n",
       "      <td>1</td>\n",
       "      <td>46.8</td>\n",
       "      <td>819</td>\n",
       "      <td>1</td>\n",
       "    </tr>\n",
       "    <tr>\n",
       "      <th>29</th>\n",
       "      <td>1</td>\n",
       "      <td>48.8</td>\n",
       "      <td>800</td>\n",
       "      <td>1</td>\n",
       "    </tr>\n",
       "    <tr>\n",
       "      <th>30</th>\n",
       "      <td>1</td>\n",
       "      <td>49.8</td>\n",
       "      <td>823</td>\n",
       "      <td>1</td>\n",
       "    </tr>\n",
       "    <tr>\n",
       "      <th>31</th>\n",
       "      <td>1</td>\n",
       "      <td>50.8</td>\n",
       "      <td>814</td>\n",
       "      <td>1</td>\n",
       "    </tr>\n",
       "    <tr>\n",
       "      <th>32</th>\n",
       "      <td>0</td>\n",
       "      <td>36.4</td>\n",
       "      <td>789</td>\n",
       "      <td>1</td>\n",
       "    </tr>\n",
       "    <tr>\n",
       "      <th>33</th>\n",
       "      <td>0</td>\n",
       "      <td>39.3</td>\n",
       "      <td>803</td>\n",
       "      <td>1</td>\n",
       "    </tr>\n",
       "    <tr>\n",
       "      <th>34</th>\n",
       "      <td>0</td>\n",
       "      <td>41.3</td>\n",
       "      <td>812</td>\n",
       "      <td>1</td>\n",
       "    </tr>\n",
       "    <tr>\n",
       "      <th>35</th>\n",
       "      <td>0</td>\n",
       "      <td>43.4</td>\n",
       "      <td>820</td>\n",
       "      <td>1</td>\n",
       "    </tr>\n",
       "    <tr>\n",
       "      <th>36</th>\n",
       "      <td>0</td>\n",
       "      <td>45.5</td>\n",
       "      <td>808</td>\n",
       "      <td>1</td>\n",
       "    </tr>\n",
       "    <tr>\n",
       "      <th>37</th>\n",
       "      <td>0</td>\n",
       "      <td>47.3</td>\n",
       "      <td>815</td>\n",
       "      <td>1</td>\n",
       "    </tr>\n",
       "    <tr>\n",
       "      <th>38</th>\n",
       "      <td>0</td>\n",
       "      <td>48.5</td>\n",
       "      <td>855</td>\n",
       "      <td>1</td>\n",
       "    </tr>\n",
       "    <tr>\n",
       "      <th>39</th>\n",
       "      <td>0</td>\n",
       "      <td>50.4</td>\n",
       "      <td>842</td>\n",
       "      <td>1</td>\n",
       "    </tr>\n",
       "    <tr>\n",
       "      <th>40</th>\n",
       "      <td>0</td>\n",
       "      <td>52.1</td>\n",
       "      <td>819</td>\n",
       "      <td>1</td>\n",
       "    </tr>\n",
       "    <tr>\n",
       "      <th>41</th>\n",
       "      <td>0</td>\n",
       "      <td>56.1</td>\n",
       "      <td>839</td>\n",
       "      <td>1</td>\n",
       "    </tr>\n",
       "  </tbody>\n",
       "</table>\n",
       "</div>"
      ],
      "text/plain": [
       "    continent  latitude  wingsize  sex\n",
       "0           1      35.5       901    0\n",
       "1           1      37.0       896    0\n",
       "2           1      38.6       906    0\n",
       "3           1      40.7       907    0\n",
       "4           1      40.9       898    0\n",
       "5           1      42.4       893    0\n",
       "6           1      45.0       913    0\n",
       "7           1      46.8       915    0\n",
       "8           1      48.8       927    0\n",
       "9           1      49.8       924    0\n",
       "10          1      50.8       930    0\n",
       "11          0      36.4       905    0\n",
       "12          0      39.3       889    0\n",
       "13          0      41.3       915    0\n",
       "14          0      43.4       930    0\n",
       "15          0      45.5       895    0\n",
       "16          0      47.3       926    0\n",
       "17          0      48.5       944    0\n",
       "18          0      50.4       925    0\n",
       "19          0      52.1       920    0\n",
       "20          0      56.1       934    0\n",
       "21          1      35.5       797    1\n",
       "22          1      37.0       806    1\n",
       "23          1      38.6       812    1\n",
       "24          1      40.7       807    1\n",
       "25          1      40.9       818    1\n",
       "26          1      42.4       809    1\n",
       "27          1      45.0       810    1\n",
       "28          1      46.8       819    1\n",
       "29          1      48.8       800    1\n",
       "30          1      49.8       823    1\n",
       "31          1      50.8       814    1\n",
       "32          0      36.4       789    1\n",
       "33          0      39.3       803    1\n",
       "34          0      41.3       812    1\n",
       "35          0      43.4       820    1\n",
       "36          0      45.5       808    1\n",
       "37          0      47.3       815    1\n",
       "38          0      48.5       855    1\n",
       "39          0      50.4       842    1\n",
       "40          0      52.1       819    1\n",
       "41          0      56.1       839    1"
      ]
     },
     "execution_count": 5,
     "metadata": {},
     "output_type": "execute_result"
    }
   ],
   "source": [
    "insects"
   ]
  },
  {
   "cell_type": "markdown",
   "metadata": {},
   "source": [
    "We've got our four columns `continent, latitude, wingsize, and sex`.  We can see some short descriptions of their qualities using `info`:"
   ]
  },
  {
   "cell_type": "code",
   "execution_count": 6,
   "metadata": {
    "collapsed": false
   },
   "outputs": [
    {
     "name": "stdout",
     "output_type": "stream",
     "text": [
      "<class 'pandas.core.frame.DataFrame'>\n",
      "RangeIndex: 42 entries, 0 to 41\n",
      "Data columns (total 4 columns):\n",
      "continent    42 non-null int64\n",
      "latitude     42 non-null float64\n",
      "wingsize     42 non-null int64\n",
      "sex          42 non-null int64\n",
      "dtypes: float64(1), int64(3)\n",
      "memory usage: 1.4 KB\n"
     ]
    }
   ],
   "source": [
    "insects.info()"
   ]
  },
  {
   "cell_type": "markdown",
   "metadata": {},
   "source": [
    "Alltogether:\n",
    "    \n",
    "  - `continent` is a column of integer values.  Looking at the data, it's only values are zero and one.\n",
    "  - `latitude` has decimal values.\n",
    "  - `wingsize` is another column of integers, but this one can take on any number in a wide range.\n",
    "  - `sex` is another column of intergers, which also seems restricted to zeros and ones.\n",
    "    \n",
    "The zero/one columns are called **binay** or **indicator variables**, they measure a specific yes/no conditon.\n",
    "\n",
    "  - `sex` is equal to one if the insect is male, and is zero if female.\n",
    "  - `continent` is equal to one if from a first continent, zero if from a second."
   ]
  },
  {
   "cell_type": "markdown",
   "metadata": {},
   "source": [
    "### Exploratory Visualization"
   ]
  },
  {
   "cell_type": "markdown",
   "metadata": {},
   "source": [
    "It is always a good idea to start making visualizations when confronted with a new set of data.  The most effective and flexible visualization is undoutably the **scatterplot**."
   ]
  },
  {
   "cell_type": "code",
   "execution_count": 29,
   "metadata": {
    "collapsed": false
   },
   "outputs": [
    {
     "data": {
      "text/plain": [
       "<matplotlib.text.Text at 0x110b55410>"
      ]
     },
     "execution_count": 29,
     "metadata": {},
     "output_type": "execute_result"
    },
    {
     "data": {
      "image/png": "[encoded data removed]",
      "text/plain": [
       "<matplotlib.figure.Figure at 0x1126a3f90>"
      ]
     },
     "metadata": {},
     "output_type": "display_data"
    }
   ],
   "source": [
    "fig, ax = plt.subplots()\n",
    "\n",
    "ax.scatter(insects.latitude, insects.wingsize, s=40)\n",
    "ax.set_xlabel(\"Latitude\")\n",
    "ax.set_ylabel(\"Wing Size\")\n",
    "ax.set_title(\"Insect Wing Sizes at Various Latitudes\")"
   ]
  },
  {
   "cell_type": "markdown",
   "metadata": {},
   "source": [
    "Here we have a scatterplot of `wingsize` against `latitude`."
   ]
  },
  {
   "cell_type": "markdown",
   "metadata": {},
   "source": [
    "**Discussion:** What patterns do you see in the scatterplot.  Can you form any hypothesies about the data?"
   ]
  },
  {
   "cell_type": "markdown",
   "metadata": {},
   "source": [
    "Here are some thoughts:\n",
    "    \n",
    "  - The most promenent feature of this data is the two bands.  There seem to be two very well defined elongated clusters of data, with the average wingsize in one cluster much greater than in the other.\n",
    "  - Within each cluster there is noticible tendency for wingsize to increase as latitude increases."
   ]
  },
  {
   "cell_type": "markdown",
   "metadata": {},
   "source": [
    "### Exploritory Data Analysis"
   ]
  },
  {
   "cell_type": "markdown",
   "metadata": {},
   "source": [
    "This leads to a few questions we may wish to answer with the data.\n",
    "\n",
    "  1. Are the two clusters associated with one of the other two varaibles in the dataset, continent or sex?\n",
    "  2. Is the increase of wing size as latitude increases real or illusory?\n",
    "  3. If the increase in wing size is real, does the *rate* of increase differ in the two clusters?\n",
    "  \n",
    "Let's answer each of these questions."
   ]
  },
  {
   "cell_type": "markdown",
   "metadata": {},
   "source": [
    "#### Are The Two Clusters Associated With Either Continent or Sex?"
   ]
  },
  {
   "cell_type": "markdown",
   "metadata": {},
   "source": [
    "We can discover if the two clusters in the data are associated with either `continent` or `sex` through a well chosen visualization.  Let's make the same scatterplot from before, but color each point either red or blue, according to the value of `continent` or `sex`."
   ]
  },
  {
   "cell_type": "code",
   "execution_count": 110,
   "metadata": {
    "collapsed": false
   },
   "outputs": [
    {
     "data": {
      "text/plain": [
       "<matplotlib.legend.Legend at 0x1173d2710>"
      ]
     },
     "execution_count": 110,
     "metadata": {},
     "output_type": "execute_result"
    },
    {
     "data": {
      "image/png": "[encoded data removed]",
      "text/plain": [
       "<matplotlib.figure.Figure at 0x116a91bd0>"
      ]
     },
     "metadata": {},
     "output_type": "display_data"
    }
   ],
   "source": [
    "fig, ax = plt.subplots()\n",
    "\n",
    "continent_boolean = insects.continent.astype(bool)\n",
    "ax.scatter(insects.latitude[continent_boolean], \n",
    "           insects.wingsize[continent_boolean], \n",
    "           s=40, c=\"red\", label=\"Continent 1\")\n",
    "ax.scatter(insects.latitude[~continent_boolean], \n",
    "           insects.wingsize[~continent_boolean],\n",
    "           s=40, c=\"blue\", label=\"Continent 0\")\n",
    "ax.set_xlabel(\"Latitude\")\n",
    "ax.set_ylabel(\"Wing Size\")\n",
    "ax.set_title(\"Are The Two Clusters Associated With Continent?\")\n",
    "ax.legend()"
   ]
  },
  {
   "cell_type": "markdown",
   "metadata": {},
   "source": [
    "The values of continent seem scattered randomly across the two clusters, so it does **not** seem like continent is associated with the clusters."
   ]
  },
  {
   "cell_type": "code",
   "execution_count": 38,
   "metadata": {
    "collapsed": false
   },
   "outputs": [
    {
     "data": {
      "text/plain": [
       "<matplotlib.legend.Legend at 0x1145be950>"
      ]
     },
     "execution_count": 38,
     "metadata": {},
     "output_type": "execute_result"
    },
    {
     "data": {
      "image/png": "[encoded data removed]",
      "text/plain": [
       "<matplotlib.figure.Figure at 0x114642590>"
      ]
     },
     "metadata": {},
     "output_type": "display_data"
    }
   ],
   "source": [
    "fig, ax = plt.subplots()\n",
    "\n",
    "sex_boolean = insects.sex.astype(bool)\n",
    "ax.scatter(insects.latitude[sex_boolean], \n",
    "           insects.wingsize[sex_boolean],\n",
    "           s=40, c=\"red\", label=\"Male\")\n",
    "ax.scatter(insects.latitude[~sex_boolean], \n",
    "           insects.wingsize[~sex_boolean],\n",
    "           s=40, c=\"blue\", label=\"Female\")\n",
    "ax.set_xlabel(\"Latitude\")\n",
    "ax.set_ylabel(\"Wing Size\")\n",
    "ax.set_title(\"Insect Wing Sizes at Various Latitudes\")\n",
    "ax.legend()"
   ]
  },
  {
   "cell_type": "markdown",
   "metadata": {},
   "source": [
    "There we go!\n",
    "\n",
    "This is pretty definiative, the cluster of the larger insects are all female, and the cluster of smaller insects are all male.  This seems like enough evidence to conclude that the sex of the insect causes the data to cluster into two groups."
   ]
  },
  {
   "cell_type": "markdown",
   "metadata": {},
   "source": [
    "#### Is An Increasing Latitude Associated With an Increasing Wing Size?"
   ]
  },
  {
   "cell_type": "markdown",
   "metadata": {},
   "source": [
    "This question is a little more sophisticated, and we need some new technology to answer it.\n",
    "\n",
    "The idea is to create an equation:\n",
    "\n",
    "$$ \\text{Wing Span} \\approx a + b \\times \\text{Latitude} $$\n",
    "\n",
    "Then we can look at the number $b$, which tells us how we should expect `wingspan` to change as `latitude` changes.  If we find that $b > 0$, that's evidence that an increasing latitude is associated with an increasing wingspan.\n",
    "\n",
    "I'll skip the technicalities, but the basic tool for creating equations like this is called **linear regression**."
   ]
  },
  {
   "cell_type": "code",
   "execution_count": 113,
   "metadata": {
    "collapsed": false
   },
   "outputs": [
    {
     "name": "stdout",
     "output_type": "stream",
     "text": [
      "              Linear Model Summary             \n",
      "===============================================\n",
      "Name         Parameter Estimate  Standard Error\n",
      "-----------------------------------------------\n",
      "Intercept                780.53           64.53\n",
      "latitude                   1.88            1.44\n"
     ]
    }
   ],
   "source": [
    "linear_model = smf.ols(formula='wingsize ~ latitude', data=insects)\n",
    "insects_model_result = linear_model.fit()\n",
    "linear_model_summary(insects_model_result)"
   ]
  },
  {
   "cell_type": "markdown",
   "metadata": {},
   "source": [
    "The linear regression has attempted to estimate the equation we are after, and it has returned:\n",
    "\n",
    "$$ \\text{Wing Span} \\approx 780.53 + 1.88 \\times \\text{Latitude} $$\n",
    "\n",
    "So we can expect an on averge increase of 1.88 wingspan for every increase in one latitude."
   ]
  },
  {
   "cell_type": "markdown",
   "metadata": {},
   "source": []
  }
 ],
 "metadata": {
  "kernelspec": {
   "display_name": "Python [Root]",
   "language": "python",
   "name": "Python [Root]"
  },
  "language_info": {
   "codemirror_mode": {
    "name": "ipython",
    "version": 2
   },
   "file_extension": ".py",
   "mimetype": "text/x-python",
   "name": "python",
   "nbconvert_exporter": "python",
   "pygments_lexer": "ipython2",
   "version": "2.7.12"
  }
 },
 "nbformat": 4,
 "nbformat_minor": 0
}
